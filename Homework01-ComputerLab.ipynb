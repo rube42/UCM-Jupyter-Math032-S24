{
 "cells": [
  {
   "cell_type": "markdown",
   "metadata": {},
   "source": [
    "<h2> Introduction to using Jupyter </h2>\n",
    "\n",
    "This notebook is meant to give you an introduction to using Jupyter. This is a programming platform that we'll be using throughout Math 032 this semester; although you won't be doing too much coding, there will be assignments where you need to write or modify code snippets so that we can use Jupyter's computational abilities to answer questions in probability and statistics. Since this is a heavily applied course with a lot of real-world applications, it's especially important to be able to use computational tools to solve problems that are beyond the scope of pen-and-paper. \n",
    "\n",
    "Our Jupyter notebooks mix markdown (that's what this cell is -- really, it's just fancy text with a little bit of formatting!) and Python code. You can execute the code in any cell by either clicking the `run` button above this block, or by pressing `Ctrl-Enter` or `Cmd-Enter`. In a typical notebook, you'll be given some templates or code to modify to a particular usage; you shouldn't have to write things from scratch, but rather edit previously given material.\n",
    "\n",
    "This notebook has a couple of questions that introduce you to the process of using Python code to answer questions, along with the particular syntax. If you're interested in learning more about the details of coding in Python, [this tutorial](https://www.w3schools.com/python/) is a great starting point.\n",
    "\n",
    "Let's get started!"
   ]
  },
  {
   "cell_type": "markdown",
   "metadata": {},
   "source": [
    "<h3> Part 1: Computing a sum with Python </h3>\n",
    "\n",
    "In previous courses, you probability computed sums with sigma notation; for example,\n",
    "$$\\sum_{n = 1}^{1000} \\frac{1}{n} = \\frac 1 1 + \\frac 1 2 + \\frac 1 3 + \\cdots \\frac{1}{1000}.$$\n",
    "These can get extremely cumbersome to compute by hand, but are easily handled by a computer using a [for loop](https://www.w3schools.com/python/python_for_loops.asp). The Python code that will compute this sum is below, with a lot of comments. Comments are placed on lines using \\#, and are not interpreted as code."
   ]
  },
  {
   "cell_type": "code",
   "execution_count": 1,
   "metadata": {},
   "outputs": [
    {
     "name": "stdout",
     "output_type": "stream",
     "text": [
      "7.485470860550343\n"
     ]
    }
   ],
   "source": [
    "# This is a comment!\n",
    "\n",
    "# First, we set a variable to be 0. This is \n",
    "# our initial sum.\n",
    "s = 0\n",
    "\n",
    "# Now we do a for loop. We take a variable n that\n",
    "# runs from 1 to 1000. Python does this using the \n",
    "# keyword range: range(a, b) is a list of numbers\n",
    "# from a to b - 1, inclusive. Note it doesn't \n",
    "# include b itself, so we have to modify this.\n",
    "\n",
    "for n in range(1, 1000 + 1):\n",
    "    # In each loop, we add the next piece, which \n",
    "    # is just 1/n. We keep all the code in the\n",
    "    # loop indented so that Python knows we're \n",
    "    # still in the loop.\n",
    "    s = s + 1/n\n",
    "\n",
    "# Tell us what the sum is:\n",
    "print(s)\n",
    "\n",
    "\n"
   ]
  },
  {
   "cell_type": "markdown",
   "metadata": {},
   "source": [
    "So the sum of the first $1000$ numbers is about $7.49$. Now it's your turn; add a new code block to **answer the following two questions**.\n",
    "\n",
    "* Compute $\\sum_{n = 1}^{100} n^3$. Note that in Python, $a^b$ is written as `a**b`.\n",
    "\n",
    "* Estimate $\\sum_{n = 1}^{100} \\frac{1}{n^2}$, $\\sum_{n = 1}^{1000} \\frac{1}{n^2}$, and $\\sum_{n = 1}^{10^6} \\frac{1}{n^2}.$"
   ]
  },
  {
   "cell_type": "markdown",
   "metadata": {},
   "source": [
    "<h3> Part 2: Generating random numbers with Python </h3>\n",
    "\n",
    "One of the main uses we'll have for Python this semester is generating random data; we can use Python to simulate rolling dice, drawing cards, building random data from a distribution, and many more things. A lot of this will use Python's [random](https://www.geeksforgeeks.org/python-random-function/) module, so this example will involve importing and running code from this module.\n",
    "\n",
    "Here's how we can use Python to flip a coin: generate a \"uniformly distributed\" random number between $0$ and $1$ (we'll say what this means in Chapter 5). If it's bigger than $0.5$, call it Heads and if it's smaller than $0.5$, call it Tails. Let's count how many heads we get if we flip $100$ coins:"
   ]
  },
  {
   "cell_type": "code",
   "execution_count": 5,
   "metadata": {},
   "outputs": [
    {
     "name": "stdout",
     "output_type": "stream",
     "text": [
      "Number of heads = 43\n"
     ]
    }
   ],
   "source": [
    "# First we need to tell Python where to find \n",
    "# the random number module:\n",
    "\n",
    "from random import random\n",
    "\n",
    "# Now we flip the coin 100 times and record\n",
    "# the number of heads. Start by setting it\n",
    "# to zero.\n",
    "heads = 0\n",
    "\n",
    "# Flip! Saying range(100) is shorthand for\n",
    "# range(0, 100) = [0, 1, 2, ..., 99].\n",
    "for n in range(100):\n",
    "    # Gen\n",
    "    flip = random()\n",
    "\n",
    "    # Now check if it's bigger than 0.5:\n",
    "    if flip > 0.5:\n",
    "        # Note that we're inside an if\n",
    "        # block now. We indent even more.\n",
    "        heads = heads + 1\n",
    "        # We could also write heads += 1 \n",
    "        # for this. It just records a heads.\n",
    "\n",
    "# Now report how many heads we got. The f'...'\n",
    "# prints the ... with a bit of formatting.\n",
    "print(f'Number of heads = {heads}')"
   ]
  },
  {
   "cell_type": "markdown",
   "metadata": {},
   "source": [
    "The first time I ran this, I got 57 heads; the second gave me 55, and the third gave me 53.\n",
    "\n",
    "Now it's your turn! Add new blocks to **answer the following two questions**:\n",
    "\n",
    "* Suppose you flip $1000$ coins and record the number of heads. Carry this experiment out $10$ times; what's the largest number of heads that you recorded in those ten runs? (You can do this by hand or automate it with another for loop).\n",
    "\n",
    "* How likely do you think it is to see a result of at least $600$ heads out of $1000$ flips? Do you think it's somewhat unlikely, very unlikely, or extremely unlikely?"
   ]
  }
 ],
 "metadata": {
  "kernelspec": {
   "display_name": "Python 3",
   "language": "python",
   "name": "python3"
  },
  "language_info": {
   "codemirror_mode": {
    "name": "ipython",
    "version": 3
   },
   "file_extension": ".py",
   "mimetype": "text/x-python",
   "name": "python",
   "nbconvert_exporter": "python",
   "pygments_lexer": "ipython3",
   "version": "3.6.8"
  }
 },
 "nbformat": 4,
 "nbformat_minor": 5
}
