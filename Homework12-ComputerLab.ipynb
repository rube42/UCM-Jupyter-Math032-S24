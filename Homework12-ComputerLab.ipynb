{
 "cells": [
  {
   "cell_type": "markdown",
   "metadata": {},
   "source": [
    "## <h2> Homework 12 - Computer Lab - Hypothesis testing.</h2>\n",
    "\n",
    "<h3> Introduction </h3>\n",
    "\n",
    "The goal of this computer lab is to contuct hypothesis tests using Python. Specifically, you will run the tests that you identified in  problems 2 and 3 from the theoretical part of this homework.\n",
    "\n",
    "Below is sample code that implements the tests discussed in class."
   ]
  },
  {
   "cell_type": "markdown",
   "metadata": {},
   "source": [
    "<h4> Single-sample z-test with known variance</h4>\n",
    "Below is an example of the  single-sample z-test with known variance $\\sigma=9$ applied to the paint-drying example from class. In class we tested the null hypothesis that the mean is 75 and the alternative hypothesis that the mean is smaller. Code for implementing right-tailed and two-tailed tests is also included:\n"
   ]
  },
  {
   "cell_type": "code",
   "execution_count": 1,
   "metadata": {},
   "outputs": [
    {
     "name": "stdout",
     "output_type": "stream",
     "text": [
      "One sided p-value (left)   1.7799004872556024e-06\n",
      "One sided p-value (right): 0.9999982200995128\n",
      "Two sided p-value:         3.559800974511205e-06\n"
     ]
    }
   ],
   "source": [
    "import numpy as np\n",
    "from scipy.stats import norm\n",
    "\n",
    "#The data\n",
    "x=[69.4, 68.7, 67.4, 70.7, 78.9, \n",
    "   71.1, 66.2, 74.9, 61.2, 53.3, \n",
    "   64.9, 49.1, 65.2, 76.8, 65.9, \n",
    "   63.3, 61.9, 63.3, 68.7, 78.6, \n",
    "   71.5, 71.8, 61.7, 51.6, 70.3]\n",
    "\n",
    "#Number of data point\n",
    "n = len(x)\n",
    "\n",
    "#The standard deviation is known\n",
    "sigma = 9\n",
    "\n",
    "#The value under the null hypothesis\n",
    "mu0 = 75\n",
    "\n",
    "#Computes the z-score\n",
    "z = (np.mean(x) - mu0) / (sigma / np.sqrt(n))\n",
    "\n",
    "#left-tail p-value: H1: Mean drying time less than 75\n",
    "print(\"One sided p-value (left)  \",  norm.cdf(z))   #CDF(z) = probability of value smaller than z.\n",
    "\n",
    "#right-tail p-value: H1: Mean drying time greater than 75\n",
    "print(\"One sided p-value (right):\", 1-norm.cdf(z))  #1-CDF(z) = probability of value larger than z.\n",
    "\n",
    "#two-tailed p-value: H1: Mean drying time greater different from 75\n",
    "print(\"Two sided p-value:        \",2*norm.cdf(-abs(z))) # 2*CDF(-|z|) = Probability of being further away than z (either direction)"
   ]
  },
  {
   "cell_type": "markdown",
   "metadata": {},
   "source": [
    "<h4> Single-sample t-test.</h4>\n",
    "The variance has to be estimated from the data if it is unknown; this is when we use t-tests. Below is the single-sample t-test applied to the paint drying data:"
   ]
  },
  {
   "cell_type": "code",
   "execution_count": 44,
   "metadata": {},
   "outputs": [
    {
     "name": "stdout",
     "output_type": "stream",
     "text": [
      "One sided p-value (left)   6.410402589627016e-06\n",
      "One sided p-value (right)  0.9999935895974104\n",
      "Two sided p-value          1.2820805179254032e-05\n"
     ]
    }
   ],
   "source": [
    "import numpy as np\n",
    "from scipy.stats import ttest_1samp\n",
    "\n",
    "#left-tail p-value: H1: Mean drying time less than 75\n",
    "print(\"One sided p-value (left)  \",  ttest_1samp(x, 75, alternative=\"less\").pvalue) \n",
    "\n",
    "#right-tail p-value: H1: Mean drying time greater than 75\n",
    "print(\"One sided p-value (right) \",  ttest_1samp(x, 75, alternative=\"greater\").pvalue) \n",
    "\n",
    "#two-tailed p-value: H1: Mean drying time greater different from 75\n",
    "print(\"Two sided p-value         \",  ttest_1samp(x, 75, alternative=\"two-sided\").pvalue) "
   ]
  },
  {
   "cell_type": "markdown",
   "metadata": {},
   "source": [
    "<h4> Two unpaired sample Z-test with known variance</h4>\n",
    "To illustrate the two-sample tests, we will analyze the steel hardness dataset. We first consider the case where we know the variance $\\sigma_X=\\sigma_Y=5$ (in practice we don't know this and should use a t-test as described below). The p-value for the null hypothesis $\\mu_X-\\mu_Y=0$ can then be computed based on the z-statistic\n",
    "$$\n",
    "z = \\frac{\\bar x_n-\\bar y_m}{\\sqrt{\\sigma_X^2/n+\\sigma_Y^2/m}}\n",
    "$$\n"
   ]
  },
  {
   "cell_type": "code",
   "execution_count": 2,
   "metadata": {},
   "outputs": [
    {
     "name": "stdout",
     "output_type": "stream",
     "text": [
      "One sided p-value (left)   5.408422767276919e-19\n",
      "One sided p-value (right): 1.0\n",
      "Two sided p-value:         1.0816845534553838e-18\n"
     ]
    }
   ],
   "source": [
    "import numpy as np\n",
    "from scipy.stats import norm\n",
    "\n",
    "#Normal steel\n",
    "x=[11.5, 9.2, 9.0]\n",
    "#Quenched steel\n",
    "y=[37.2, 53.6, 47.0]\n",
    "\n",
    "#Code for running the test\n",
    "n = len(x)\n",
    "m = len(y)\n",
    "sigmaX = 5\n",
    "sigmaY = 5\n",
    "xBar = np.mean(x)\n",
    "yBar = np.mean(y)\n",
    "\n",
    "z = (xBar-yBar)/np.sqrt(sigmaX**2/n + sigmaY**2/m)\n",
    "\n",
    "#left-tail p-value (H1: the normal steel is less hard than the quenched steel = quenched steel is harder)\n",
    "print(\"One sided p-value (left)  \",  norm.cdf(z))   #CDF(z) = probability of value smaller than z.\n",
    "\n",
    "#right-tail p-value (H1: the normal steel has greater hardness than the quenched steel)\n",
    "print(\"One sided p-value (right):\", 1-norm.cdf(z))  #1-CDF(z) = probability of value larger than z.\n",
    "\n",
    "#two-tailed p-value (H1: normal and quenched steel have diffrent strength)\n",
    "print(\"Two sided p-value:        \",2*norm.cdf(-abs(z))) # 2*CDF(-|z|) = Probability of being further away than z (either direction)"
   ]
  },
  {
   "cell_type": "markdown",
   "metadata": {},
   "source": [
    "<h4> Two-sample t-test with equal variance</h4>\n",
    "In practice, we don't know the variance of the distribution under the null hypothesis. Below are p-values for the difference in mean $\\mu_{normal}-\\mu_{quenched}$ computed assuming that the variance is equal for normal and quenched steel: "
   ]
  },
  {
   "cell_type": "code",
   "execution_count": 3,
   "metadata": {},
   "outputs": [
    {
     "name": "stdout",
     "output_type": "stream",
     "text": [
      "One sided p-value (left)   0.0008633991342436623\n",
      "One sided p-value (right)  0.9991366008657564\n",
      "Two sided p-value          0.0017267982684873247\n"
     ]
    }
   ],
   "source": [
    "from scipy.stats import ttest_ind\n",
    "\n",
    "#left-tail p-value (H1: the normal steel is less hard than the quenched steel = quenched steel is harder)\n",
    "print(\"One sided p-value (left)  \",  ttest_ind(x, y, equal_var=True, alternative=\"less\").pvalue) \n",
    "\n",
    "#right-tail p-value (H1: the normal steel has greater hardness than the quenched steel)\n",
    "print(\"One sided p-value (right) \",  ttest_ind(x, y, equal_var=True, alternative=\"greater\").pvalue) \n",
    "\n",
    "#two-tailed p-value (H1: normal and quenched steel have diffrent strength)\n",
    "print(\"Two sided p-value         \",  ttest_ind(x, y, equal_var=True, alternative=\"two-sided\").pvalue) "
   ]
  },
  {
   "cell_type": "markdown",
   "metadata": {},
   "source": [
    "<h4> Two-sample t-test with unequal variance</h4>\n",
    "Looking at the steel data, we notice that the quenched steel seems to have much more variablity than the normal steel. Moreover, because we have no prior knowledge of the variability, it is appropriate to not assume that the variance is equal for the normal and quenched steel. Below are p-values comptued using the paired t-test where the samples can have different variance:"
   ]
  },
  {
   "cell_type": "code",
   "execution_count": 50,
   "metadata": {},
   "outputs": [
    {
     "name": "stdout",
     "output_type": "stream",
     "text": [
      "One sided p-value (left)   0.00749695730927794\n",
      "One sided p-value (right)  0.9925030426907221\n",
      "Two sided p-value          0.01499391461855588\n"
     ]
    }
   ],
   "source": [
    "from scipy.stats import ttest_ind\n",
    "\n",
    "#left-tail p-value (H1: the normal steel is less hard than the quenched steel = quenched steel is harder)\n",
    "print(\"One sided p-value (left)  \",  ttest_ind(x, y, equal_var=False, alternative=\"less\").pvalue) \n",
    "\n",
    "#right-tail p-value (H1: the normal steel has greater hardness than the quenched steel)\n",
    "print(\"One sided p-value (right) \",  ttest_ind(x, y, equal_var=False, alternative=\"greater\").pvalue) \n",
    "\n",
    "#two-tailed p-value (H1: normal and quenched steel have diffrent strength)\n",
    "print(\"Two sided p-value         \",  ttest_ind(x, y, equal_var=False, alternative=\"two-sided\").pvalue) "
   ]
  },
  {
   "cell_type": "markdown",
   "metadata": {},
   "source": [
    "<h4>Paired t-test</h4>\n",
    "This code runs a paired t-test for the hair-growth treatment example discussed in class."
   ]
  },
  {
   "cell_type": "code",
   "execution_count": 53,
   "metadata": {},
   "outputs": [
    {
     "name": "stdout",
     "output_type": "stream",
     "text": [
      "One sided p-value (left)    0.011832503842340927\n",
      "One sided p-value (right)   0.9881674961576591\n",
      "Two sided p-value           0.023665007684681855\n"
     ]
    }
   ],
   "source": [
    "from scipy.stats import ttest_rel \n",
    "\n",
    "#Hair before treatment\n",
    "x=[0.1, 10.2, 8.2]\n",
    "#Hair after treatment\n",
    "y=[5.2, 15.2, 11.2]\n",
    "\n",
    "#The manual for this method (found using ?ttest_rel) states:\n",
    "#'less': the mean of the distribution underlying the first sample\n",
    "#      is less than the mean of the distribution underlying the second\n",
    "#      sample.\n",
    "\n",
    "#left-tail p-value - H1: Less hair before treatment = more hair after\n",
    "print(\"One sided p-value (left)   \", ttest_rel(x, y, alternative=\"less\").pvalue) \n",
    "\n",
    "#right-tail p-value - H1: More hair before treatment.\n",
    "print(\"One sided p-value (right)  \", ttest_rel(x, y, alternative=\"greater\").pvalue) \n",
    "\n",
    "#two-tailed p-value - H1: Hair different before and after treatment.\n",
    "print(\"Two sided p-value          \", ttest_rel(x, y, alternative=\"two-sided\").pvalue) "
   ]
  },
  {
   "cell_type": "markdown",
   "metadata": {},
   "source": [
    "<h2> Problems </h2>\n",
    "\n",
    "<h4>Theory problem 2</h4>\n",
    "Compute the p-value for the test in theory problem 2.\n",
    "\n",
    "<h4>Theory problem 3</h4>\n",
    "Compute the p-value for the test in theory problem 3.\n",
    "\n",
    "<h2> Submission instructions: </h2>\n",
    "\n",
    "When you've finished filling in the spaces for the code and answers below, **save and export the notebook as a pdf** (this is an option under the `file` menu). Upload it to Gradescope under the assignment **Homework 12 - Computer Lab.** Do not submit any screenshots of your code.\n"
   ]
  },
  {
   "cell_type": "markdown",
   "metadata": {},
   "source": [
    "<h4>Problem 1</h4>"
   ]
  },
  {
   "cell_type": "code",
   "execution_count": 77,
   "metadata": {},
   "outputs": [],
   "source": [
    "#Put your code for solving problem 1 here (you will need one cell per plot).\n"
   ]
  },
  {
   "cell_type": "markdown",
   "metadata": {},
   "source": [
    "Put your answers to problem 1 here."
   ]
  },
  {
   "cell_type": "markdown",
   "metadata": {},
   "source": [
    "<h4>Problem 2</h4>"
   ]
  },
  {
   "cell_type": "code",
   "execution_count": 78,
   "metadata": {},
   "outputs": [],
   "source": [
    "#Put your code for solving problem 2 here (you will need one cell per plot)."
   ]
  },
  {
   "cell_type": "markdown",
   "metadata": {},
   "source": [
    "Put your answer to problem 2 here."
   ]
  }
 ],
 "metadata": {
  "kernelspec": {
   "display_name": "Python 3",
   "language": "python",
   "name": "python3"
  },
  "language_info": {
   "codemirror_mode": {
    "name": "ipython",
    "version": 3
   },
   "file_extension": ".py",
   "mimetype": "text/x-python",
   "name": "python",
   "nbconvert_exporter": "python",
   "pygments_lexer": "ipython3",
   "version": "3.6.8"
  }
 },
 "nbformat": 4,
 "nbformat_minor": 5
}
