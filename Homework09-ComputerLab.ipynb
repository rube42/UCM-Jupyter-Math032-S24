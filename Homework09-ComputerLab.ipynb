{
 "cells": [
  {
   "cell_type": "markdown",
   "metadata": {},
   "source": [
    "<h2> Exploring the Law of Large Numbers and the Central Limit Theorem.</h2>\n",
    "\n",
    "<h3> Introduction </h3>\n",
    "\n",
    "In this homework you will use simulations to explore the law of large numbers and the central limit theorem."
   ]
  },
  {
   "cell_type": "markdown",
   "metadata": {},
   "source": [
    "<h4> Flipping a coin.</h4>\n",
    "\n",
    "In problem 1 and 2 you will simulate the repeated coin flipping discussed in class. One ore more coin flips can be simulated using"
   ]
  },
  {
   "cell_type": "code",
   "execution_count": 1,
   "metadata": {},
   "outputs": [
    {
     "name": "stdout",
     "output_type": "stream",
     "text": [
      "0\n",
      "[1 0 1 0 1]\n"
     ]
    }
   ],
   "source": [
    "import numpy as np\n",
    "oneCoinFlip = np.random.binomial(1,0.5)\n",
    "print(oneCoinFlip)\n",
    "\n",
    "fiveCoinFlips = np.random.binomial(1,0.5,5)\n",
    "print(fiveCoinFlips)"
   ]
  },
  {
   "cell_type": "markdown",
   "metadata": {},
   "source": [
    "Alternatively, the sum of the coins can be simulated using the binomial distribution:"
   ]
  },
  {
   "cell_type": "code",
   "execution_count": 2,
   "metadata": {},
   "outputs": [
    {
     "name": "stdout",
     "output_type": "stream",
     "text": [
      "3\n"
     ]
    }
   ],
   "source": [
    "fiveCoinSum = np.random.binomial(5,0.5)\n",
    "print(fiveCoinSum)"
   ]
  },
  {
   "cell_type": "markdown",
   "metadata": {},
   "source": [
    "<h4> Simulating Rain Drops</h4>\n",
    "In problem three, you will sample the time between rain drops assuming this time follows the exponential distribution. Numbers from this distribution can be sampled using:"
   ]
  },
  {
   "cell_type": "code",
   "execution_count": 4,
   "metadata": {},
   "outputs": [
    {
     "name": "stdout",
     "output_type": "stream",
     "text": [
      "Times (between the drops) for the first four drops:  [0.4287244  0.42541583 0.28646572 0.95818546]\n"
     ]
    }
   ],
   "source": [
    "expectedTime = 0.5\n",
    "numberOfDrops = 4\n",
    "fourDropTimes = np.random.exponential(expectedTime, numberOfDrops)\n",
    "print(\"Times (between the drops) for the first four drops: \", fourDropTimes)"
   ]
  },
  {
   "cell_type": "markdown",
   "metadata": {},
   "source": [
    "<h2> Problems </h2>\n",
    "\n",
    "<h4>Problem 1 - The Variation of Averages</h4>\n",
    "In class, we considered the experiment where each student flipped a coin 100 times, coded one side of the coin as 1 and the other as 0, and finally computed the average of the 100 coin flips. We noticed that each student got a diffent value of this average. Futhermore, the distribution of the observed averages was sharply peaked at 50% and the width was about 5%. To understand this, we introuced the random varaibles $X_1$, ..., $X_{100}$ to descibe the coin flips, let $\\bar X_{100}$ be the avarage of the coin flips, and finally computed the mean and standard deviation of $\\bar X_{100}$. In this problem you are asked to estimate the mean and standard deviation of $\\bar X_{100}$ using a simulation. (Hint: in the simulation, each loop corresponds to one student, meaning you need to compute the avearge of 100 coin flips in each loop. Also remember that you computed means and averages in previous problem sets.).\n",
    "\n",
    "<h4>Problem 2 - The Law of Large Numbers</h4>\n",
    "\n",
    "In this problem you will consider how the law of large numbers applies to the coin flip experiment described above. In this context, the law of large numbers says that the the average is garuanteed to approach 0.5 as the number of coin flips increase. Specifically, if $\\bar X_{n}$ is a random variable representing the avearge of $n$ coin flips, the theorem states that $\\lim_{n \\rightarrow\\infty} P(|\\bar X_n-0.5|\\ge\\epsilon) = 0$. To explore this, first set  $\\epsilon=0.01$ and $n=100$ and use a simulation to estimate\n",
    "$$P\n",
    "(|\\bar X_{100}-0.5|>0.01) = P(0.49\\le\\bar X_{100} \\cup \\bar X_{100} \\ge 0.51)\n",
    "$$\n",
    "\n",
    "Next increase the number of coin flips $n$ until this probability is smaller than 5%. How large is $n$?\n",
    "\n",
    "\n",
    "<h4> Problem 3 - The Central Limit Theorem </h4>\n",
    "In problem problem you will solve problem 4 of the theory homework using a simulation. Specifically, in the theory problem you were asked to use the central limit theorem to estimate the probability that 100 raindrops fall within one minute given that time between subsequent raindrops is exponentially distributed and the expected time is 0.5s. Use a simulation to compute this probaility. (Hint: in this simulation, you will need to simulate 100 raindrops in each loop and check if the event occurred.) Does the answer agree with your answer in the theory homework?\n",
    "\n",
    "<h2> Submission instructions: </h2>\n",
    "\n",
    "When you've finished filling in the spaces for the code and answers below, **save and export the notebook as a pdf** (this is an option under the `file` menu). Upload it to Gradescope under the assignment **Homework 09 - Computer Lab.** Do not submit any screenshots of your code.\n"
   ]
  },
  {
   "cell_type": "markdown",
   "metadata": {},
   "source": [
    "<h4>Problem 1</h4>"
   ]
  },
  {
   "cell_type": "code",
   "execution_count": 77,
   "metadata": {},
   "outputs": [],
   "source": [
    "#Put your code for solving problem 1 here.\n"
   ]
  },
  {
   "cell_type": "markdown",
   "metadata": {},
   "source": [
    "Put your answers to problem 1 here."
   ]
  },
  {
   "cell_type": "markdown",
   "metadata": {},
   "source": [
    "<h4>Problem 2</h4>"
   ]
  },
  {
   "cell_type": "code",
   "execution_count": 78,
   "metadata": {},
   "outputs": [],
   "source": [
    "#Put your code for solving problem 2 here."
   ]
  },
  {
   "cell_type": "markdown",
   "metadata": {},
   "source": [
    "Put your answer to problem 2 here."
   ]
  },
  {
   "cell_type": "markdown",
   "metadata": {},
   "source": [
    "<h4>Problem 3</h4>"
   ]
  },
  {
   "cell_type": "code",
   "execution_count": null,
   "metadata": {},
   "outputs": [],
   "source": [
    "#Put our code for solving problem 3 here."
   ]
  },
  {
   "cell_type": "markdown",
   "metadata": {},
   "source": [
    "Put your answer to the question here. "
   ]
  }
 ],
 "metadata": {
  "kernelspec": {
   "display_name": "Python 3",
   "language": "python",
   "name": "python3"
  },
  "language_info": {
   "codemirror_mode": {
    "name": "ipython",
    "version": 3
   },
   "file_extension": ".py",
   "mimetype": "text/x-python",
   "name": "python",
   "nbconvert_exporter": "python",
   "pygments_lexer": "ipython3",
   "version": "3.6.8"
  }
 },
 "nbformat": 4,
 "nbformat_minor": 5
}
