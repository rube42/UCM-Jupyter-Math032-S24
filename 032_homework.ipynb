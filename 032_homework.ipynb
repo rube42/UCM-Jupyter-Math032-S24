{
 "cells": [
  {
   "cell_type": "markdown",
   "id": "e7071c50-7c1c-4b32-9b25-a569b06d2e52",
   "metadata": {},
   "source": [
    "<h2> More on Simulation </h2>\n",
    "\n",
    "One really powerful computational technique is [Monte Carlo simulation](https://en.wikipedia.org/wiki/Monte_Carlo_method). In this method, we repeatedly sample random values (from a known distribution) and generate numerical results from that data. We might generate random measurements for a machine part (to see if it still works, or how likely it is to fail), or random measurements for health outcomes to figure out how to allocate resources, or many others.\n",
    "\n",
    "In this week's notebook, you'll explore how Monte Carlo simulation can be used to estimate quantities and probabilities."
   ]
  },
  {
   "cell_type": "markdown",
   "id": "34db3f2a-87ac-49dd-8c98-b7ac400a9d24",
   "metadata": {},
   "source": [
    "<h3> Estimating $\\pi$ </h3>\n",
    "\n",
    "Draw a $1 \\times 1$ square filling in the region $0 \\le x, y, \\le 1.$ Then draw the disk of radius $1$ centered at the origin (that is, $\\{(x, y) : x^2 + y^2 \\le 1\\}$. The part where these sets overlap is a quarter-circle whose area is $\\pi/4$. We can use Monte Carlo simulation to estimate the value of $\\pi$!\n",
    "\n",
    "Here's how: generate a random point in the square; meaning we take two random variables $X$ and $Y$ which both have the distribution $\\operatorname{Unif}(0, 1).$ Test if this randomly generated point actually lies within the disk or outside of the disk; count a \"success\" to mean that the point is inside the disk, and then tally up the number of successes. The probability of success is then an approximation of $\\pi/4$.\n",
    "\n",
    "<h4> Question 1 </h4>\n",
    "\n",
    "* Modify the following code to complete the simulation, and use it to estimate the value of $\\pi$.\n",
    "* If you run $1000$, $10000$, or $100,000$ trials, how accurate are the results?\n",
    "* The value of $\\pi$ is [currently known](https://en.wikipedia.org/wiki/Approximations_of_π) to at least $100$ trillion digits. Do you think that this method could be used to calculate $\\pi$ to a good precision?"
   ]
  },
  {
   "cell_type": "code",
   "execution_count": null,
   "id": "4cc7cc95-2ade-4f1d-9fc0-d28f8cc129df",
   "metadata": {},
   "outputs": [],
   "source": [
    "from random import random\n",
    "# random() will generate a number from the distribution Unif(0, 1)\n",
    "\n",
    "# Generate a random point\n",
    "x = random()\n",
    "y = random()\n",
    "\n",
    "# Check if it's in the circle or not\n",
    "if x*x + y*y <= 1:\n",
    "    # This formats the string nicely to say what the point was and whether it's in the cir\n",
    "    print(f\"({x}, {y})': in circle\")\n",
    "else:\n",
    "    print(f\"({x}, {y})': not in circle\")"
   ]
  },
  {
   "cell_type": "markdown",
   "id": "0df70df6-d704-4860-b09a-5a26aa327722",
   "metadata": {},
   "source": [
    "<h3> Exponential distributions </h3>\n",
    "\n",
    "Python's (pseudo-)random number generate random.random() generates a random variable with distribution $\\operatorname{Unif}(0, 1)$; however, this isn't the only thing we can do with it! By a clever change of variables, we can actually generate just about any distribution from it. For example, if $X \\sim \\operatorname{Unif}(0, 1)$ then\n",
    "$$Y = -\\frac 1 {\\lambda} \\ln(X)$$\n",
    "will have the $\\operatorname{Exp}(\\lambda)$ distribution. This is covered by Section 6.2 of the textbook (page 74 in particular) which I highly encourage you to read -- it's really cool!\n",
    "\n",
    "The code snippet below sets this up and establishes a random variable $Y$ which has the exponential distribution $\\operatorname{Exp}(2)$. You can use it to answer the following questions:\n",
    "\n",
    "<h4> Question </h4>\n",
    "\n",
    "* If $Y \\sim \\operatorname{Exp}(2)$, numerically estimate the probability that $Y \\le 1/2$, the probability that $Y \\le 1$, and the probability that $Y \\le 2$. How do your numerical results compare to the actual computed values from the CDF?\n",
    "\n",
    "* Estimate the *average* value (i.e the *mean*) of $Y$ over many trials. "
   ]
  },
  {
   "cell_type": "code",
   "execution_count": null,
   "id": "48ffef5c-37f1-419c-94bb-54489d717753",
   "metadata": {},
   "outputs": [],
   "source": [
    "# Set up the math portion that we need: log is Python notation for ln, the natural logarithm\n",
    "from math import log\n",
    "\n",
    "# Set up the parameter; we use lamb as the variable name because lambda is a reserved keyword in Python\n",
    "lamb = 2\n",
    "\n",
    "x = random()\n",
    "y = -log(x) / lamb\n",
    "\n",
    "print(y)"
   ]
  }
 ],
 "metadata": {
  "kernelspec": {
   "display_name": "Python 3 (ipykernel)",
   "language": "python",
   "name": "python3"
  },
  "language_info": {
   "codemirror_mode": {
    "name": "ipython",
    "version": 3
   },
   "file_extension": ".py",
   "mimetype": "text/x-python",
   "name": "python",
   "nbconvert_exporter": "python",
   "pygments_lexer": "ipython3",
   "version": "3.11.4"
  }
 },
 "nbformat": 4,
 "nbformat_minor": 5
}
