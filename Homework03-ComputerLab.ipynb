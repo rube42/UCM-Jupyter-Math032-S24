{
 "cells": [
  {
   "cell_type": "markdown",
   "metadata": {},
   "source": [
    "<h2> The Binomial distribution and the Ticket Coin Toss </h2>\n",
    "\n",
    "In this notebook, you'll do two things: \n",
    "* First, you'll use Python to get a sense of the binomial distribution by evaluating its probability mass function.\n",
    "* Secondly, you'll simulate a problem involving a ticket salesman tossing a coin. "
   ]
  },
  {
   "cell_type": "markdown",
   "metadata": {},
   "source": [
    "<h4> Part 1: Getting a sense of the binomial distribution </h4>\n",
    "\n",
    "The binomial distribution is going to be one of the most frequently encountered probability distributions in the course (and later on whenever you are doing probability again!) because of its correspondence to easily-definable binary results. Here, we're going to experiment with it a little bit, to get a sense of what the most common outputs of a binomial distribution are, and how much variation we expect to see. \n",
    "\n",
    "Suppose that we repeatedly flip a coin; the number of heads is going to follow a binomial distribution! Specifically, if the coin is flipped $N$ times and $p$ is the probability of getting heads, then the number of heads $k$ follows the distribution $\\operatorname{Bin}(N, p)$, which has the probability mass function\n",
    "\n",
    "$$p_X(k) = \\binom{n}{k} p^k (1 - p)^{n - k}.$$\n",
    "\n",
    "In this problem we will evaluate $p_X(k)$ using python. Here's some code to get us started -- it's a good idea to go over it and see what it's doing! This is getting ready to implement the probability mass function"
   ]
  },
  {
   "cell_type": "code",
   "execution_count": 4,
   "metadata": {},
   "outputs": [],
   "source": [
    "# Implement the factorial but do it recursively. Since it's recursive, it's not going to be possible\n",
    "# to compute particularly large factorials -- but it'll work for us! It will not terminate if you \n",
    "# try it for anything other than a nonnegative integer though -- try this, just for fun.\n",
    "\n",
    "def fact(n):\n",
    "    if n == 0:\n",
    "        return 1\n",
    "    else:\n",
    "        return n*fact(n - 1)\n",
    "\n",
    "# This is the binomial coefficient n_Choose_k, or n! / (k! (n - k)!). We can take advantage of how\n",
    "# flexible Python is with large integer arithmetic. There are more stable ways to implement this, but it works.\n",
    "\n",
    "def choose(n, k):\n",
    "    return fact(n) // (fact(k) * fact(n - k))"
   ]
  },
  {
   "cell_type": "markdown",
   "metadata": {},
   "source": [
    "Let's now take one more step and actually implement the probability mass function here:"
   ]
  },
  {
   "cell_type": "code",
   "execution_count": 5,
   "metadata": {},
   "outputs": [
    {
     "name": "stdout",
     "output_type": "stream",
     "text": [
      "0.009765625\n"
     ]
    }
   ],
   "source": [
    "# Implement the probability mass function that we just defined; it'll \n",
    "# return a decimal result for the probability of X = k. The second and\n",
    "# third arguments are the parameters of the distribution, which depend\n",
    "# on the coin and how many times you flip it.\n",
    "\n",
    "# Note: the ** operator is exponentiation, so 4**3 = 64, for example.\n",
    "# This is because ^ can have special meanings in many languages.\n",
    "\n",
    "def pmf(k, N, p):\n",
    "    return choose(N, k) * (p**k) * (1 - p)**(N - k)\n",
    "\n",
    "# Check that it's working:\n",
    "print(pmf(1, 10, 0.5))\n",
    "\n",
    "# This should print 0.009765625 "
   ]
  },
  {
   "cell_type": "markdown",
   "metadata": {},
   "source": [
    "If you run that last line of code, it turns out that you get exactly $10/1024$ (which is the probability of getting one head when tossing a fair coin 10 times. Can you prove this?). Now let's use this to gather and test some data.\n",
    "\n",
    "**Questions**: \n",
    "- Suppose you flip a fair ($p = 0.5$) coin $100$ times. How likely is it that you'll see exactly $50$ heads? What is the probability that you'll see between $45$ and $55$ heads (including $45$ and $55$)?"
   ]
  },
  {
   "cell_type": "markdown",
   "metadata": {},
   "source": [
    "<h4>Part 2: Solving a problem with simulation </h4>\n",
    "\n",
    "Last week, we saw how simulation can be used to understand probability problems. We can just run an experiment on a computer many times with a random number generator, and observe what the long-term behavior might be. In this part of the weekly notebook, you'll use simulation to answer a problem from the textbook (Exercise 4.12). Here it is:\n",
    "\n",
    "> You and a friend want to go to a concert, but unfortunately only one ticket is still available. The man who sells the tickets decides to toss a coin until heads appears. In each toss heads appears with probability $p$, where $0 < p < 1$, independent of each of the previous tosses. If the number of tosses needed is odd, your friend is allowed to buy the ticket; otherwise you can buy it. Would you agree to this arrangement?\n",
    "\n",
    "We could solve this completely analytically (and you should definitely do this!), but here we'll do it numerically. \n",
    "\n",
    "> **Question**: Write and run code to simulate this, using a few different values of $p$. Then decide whether you would agree to the arrangement, and how your experimentation led you to this conclusion. Does your answer depend on the value of $p$?\n",
    "\n",
    "I've written some code that you might find helpful to toss the coin, count the number of tosses before the first head, and see if that number is even. You'll need to assemble these pieces and run the experiment multiple times -- you're encouraged to recycle code from last week. As always, if you run into issues, come to office hours!"
   ]
  },
  {
   "cell_type": "code",
   "execution_count": 36,
   "metadata": {},
   "outputs": [],
   "source": [
    "from random import random\n",
    "\n",
    "# Toss a coin that's been weighted with probability p for heads\n",
    "def tossCoin(p):\n",
    "    # Generate a random number; if it's less than p, return heads\n",
    "    r = random()\n",
    "    if r < p:\n",
    "        return 'H'\n",
    "    else:\n",
    "        return 'T'\n",
    "\n",
    "# Toss coins until we get heads, and report the number of tries\n",
    "# This is one trial of the experiment that you'll want to carry out\n",
    "def tossCount(p):\n",
    "    count = 0\n",
    "    \n",
    "    # Toss a coin until we get heads\n",
    "    while True: \n",
    "        count += 1\n",
    "        toss = tossCoin(p)\n",
    "\n",
    "        # If heads, stop and return the count. Otherwise, loop.\n",
    "        # The == operator is a comparison: it just checks if the \n",
    "        # toss was actually 'H' or not.\n",
    "        if toss == 'H':\n",
    "            return count\n",
    "\n",
    "# This method tells you if a number is even or odd\n",
    "def isEven(n):\n",
    "    # The % operator divides by 2 and takes the remainder. Even numbers\n",
    "    # have a remainder of 0, odd number don't. This could also be coded\n",
    "    # in one line as `return not (n % 2)`.\n",
    "    \n",
    "    if n % 2 == 0:\n",
    "        return True\n",
    "    else:\n",
    "        return False\n",
    "    \n"
   ]
  },
  {
   "cell_type": "markdown",
   "metadata": {},
   "source": [
    "<h4> Part 3: Submitting your work to Canvas </h4>\n",
    "\n",
    "Add or modify code as needed to answer the questions in the above two parts. Then put your conclusions in the text cells below. As always, export your notebook as a pdf and upload it to Canvas by the homework deadline."
   ]
  },
  {
   "cell_type": "markdown",
   "metadata": {},
   "source": [
    "*Question 1 answers go here*"
   ]
  },
  {
   "cell_type": "markdown",
   "metadata": {},
   "source": [
    "*Question 2 answers go here*"
   ]
  }
 ],
 "metadata": {
  "kernelspec": {
   "display_name": "Python 3",
   "language": "python",
   "name": "python3"
  },
  "language_info": {
   "codemirror_mode": {
    "name": "ipython",
    "version": 3
   },
   "file_extension": ".py",
   "mimetype": "text/x-python",
   "name": "python",
   "nbconvert_exporter": "python",
   "pygments_lexer": "ipython3",
   "version": "3.6.8"
  }
 },
 "nbformat": 4,
 "nbformat_minor": 5
}
