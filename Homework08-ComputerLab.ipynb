{
 "cells": [
  {
   "cell_type": "markdown",
   "metadata": {},
   "source": [
    "<h2> Homework 08 - Computer Lab - Conditional Probabilities and the Variance and Covariance of multiple Random Variables.</h2>\n",
    "\n",
    "<h3> Introduction </h3>\n",
    "\n",
    "In this homework you will use simulations to analyze multiple related random variables. Specifically, you will estimate a conditional probability involving a pair of dies, and compute the covariance and correlation between two random variables following the multivariate normal distribution. "
   ]
  },
  {
   "cell_type": "markdown",
   "metadata": {},
   "source": [
    "<h4> Variables derived from a pair of dice.</h4>\n",
    "\n",
    "In class, pairs of random variables were introduced using an example involing two dice, one red and one white. In this example, the dies were thrown and the maximum and the sum of the dice was computed. In Problem 1 below, you will use a simulation to analyze these random variables. To to so, we will reuse some of the code from last week. Here is some code for simulating a six-sided die:"
   ]
  },
  {
   "cell_type": "code",
   "execution_count": 30,
   "metadata": {},
   "outputs": [
    {
     "name": "stdout",
     "output_type": "stream",
     "text": [
      "The die is 6\n"
     ]
    }
   ],
   "source": [
    "# Import the necessary package\n",
    "import numpy as np\n",
    "from numpy import random\n",
    "\n",
    "def sixSidedDie():\n",
    "    #First generate a random number between 0 and 1\n",
    "    r = random.rand()\n",
    "\n",
    "    #Next we use the cumulative distribution function to figure out what number on the die this corresponds to: \n",
    "    if r<=1/6:     #F(1) = 1/6\n",
    "        die = 1\n",
    "    elif r<=2/6:   #F(2) = 2/6\n",
    "        die = 2\n",
    "    elif r<=3/6:   #F(3) = ...\n",
    "        die = 3\n",
    "    elif r<=4/6:\n",
    "        die = 4\n",
    "    elif r<=5/6:\n",
    "        die = 5\n",
    "    else:\n",
    "        die = 6\n",
    "        \n",
    "    return die\n",
    "\n",
    "\n",
    "x = sixSidedDie()\n",
    "\n",
    "print(\"The die is\", x)\n",
    "\n"
   ]
  },
  {
   "cell_type": "markdown",
   "metadata": {},
   "source": [
    "To simulate two dice and computing their sum (s) and max (m), you can expand the following code:"
   ]
  },
  {
   "cell_type": "code",
   "execution_count": 31,
   "metadata": {},
   "outputs": [],
   "source": [
    "redDie = sixSidedDie()\n",
    "whiteDie = sixSidedDie()\n",
    "\n",
    "#Implement the sum:\n",
    "#s =...\n",
    "#Implement the max:\n",
    "#m = ..."
   ]
  },
  {
   "cell_type": "markdown",
   "metadata": {},
   "source": [
    "<h4> Computing expectation values using simulations</h4>\n",
    "\n",
    "In Problem 1 you will compute the covariance $Cov(X,Y)$ and correlation coefficient $\\rho(X,Y)$ between a pair of random variables. In class, we  discussed how these quantities are defined in terms of the expectation values of different combinations of $X$ and $Y$. These expectation values can be computed by modifying the code from last week:"
   ]
  },
  {
   "cell_type": "code",
   "execution_count": 33,
   "metadata": {},
   "outputs": [
    {
     "name": "stdout",
     "output_type": "stream",
     "text": [
      "E[X]   =  5.012594532065504\n",
      "E[X^2] =  26.139695774009976\n",
      "Var[X] =  1.0135918311169902\n"
     ]
    }
   ],
   "source": [
    "from random import gauss\n",
    "\n",
    "nSample = 10000\n",
    "#Sum used to compute E[X]\n",
    "xSum  = 0\n",
    "#Sum used to compute E[X^2]\n",
    "x2Sum = 0\n",
    "for _ in range(nSample):\n",
    "    x = gauss(5,1) # Here the value of ONE random variable is sampled. What will you sample?\n",
    "    xSum  += x     # What values should you sum over?\n",
    "    x2Sum += x**2\n",
    "    \n",
    "EX  = xSum / nSample\n",
    "EX2 = x2Sum / nSample\n",
    "Var = EX2 - EX**2\n",
    "print(\"E[X]   = \",EX)\n",
    "print(\"E[X^2] = \",EX2)\n",
    "print(\"Var[X] = \",Var)\n"
   ]
  },
  {
   "cell_type": "markdown",
   "metadata": {},
   "source": [
    "<h4> Variables derived from the multivariate normal distribution </h4>\n",
    "\n",
    "In Problem 2 you will analyze a pair of random variables $X_1$ and $X_2$ that follow the multivariate normal distribution. This distribution generalizes the normal distribution to multiple random variables. While the details of this distribution falls beyond the scope of this class, one important property of the distribution is that one can specify the mean and variance for each random variable as well as the covariance between all pairs of variables. Below is the code you will use to generate the pair of random variables:"
   ]
  },
  {
   "cell_type": "code",
   "execution_count": 32,
   "metadata": {},
   "outputs": [
    {
     "name": "stdout",
     "output_type": "stream",
     "text": [
      "x1 = 2.7198503510455923\n",
      "x2 = 0.936746024948157\n"
     ]
    }
   ],
   "source": [
    "muX1 = 1    #Specifies the mean of X_1\n",
    "muX2 = -0.5 #Specifies the mean of X_2\n",
    "varX1 = 2   #Specifies the variance of X_1\n",
    "varX2 = 3   #Specifies the variance of X_2\n",
    "covX1X2 = 1 #Specifies the covariance of X_1 and X_2\n",
    "\n",
    "(x1,x2) = random.multivariate_normal([muX1, muX2], [[varX1, covX1X2],[covX1X2, varX2]])\n",
    "\n",
    "print(\"x1 =\",x1)\n",
    "print(\"x2 =\",x2)"
   ]
  },
  {
   "cell_type": "markdown",
   "metadata": {},
   "source": [
    "<h2> Problems </h2>\n",
    "\n",
    "<h4>Problem 1</h4>\n",
    "In this problem you will consider two random variables: the sum $S$ and maximum $M$ of two six-sided dice. Specifically, you are asked to estimate the probability that the sum of the dies is larger than or equal to eight given that the maximum of the dies is exactly 5: $P(S\\ge8 | M=5)$. \n",
    "\n",
    "(Hint: When computing the conditional probability, remember the definition of the conditional probability $P(A|B)=P(A\\cap B)/P(B)$. To estimate the probabilities in the numerator and denominator, first count how many times the respective events occur. Also remember that we have used simulations to estimate probabilities in earlier computer labs.)\n",
    "\n",
    "\n",
    "<h4>Problem 2</h4>\n",
    "\n",
    "Use a simulation estimate $\\mu_{X_1}=E[X_1]$, $\\mu_{X_2}=E[X_2]$, $Cov(X_1,X_2)$ and $\\rho(X_1,X_2)$ for two random variables $X_1$ and $X_2$ following the multivariate normal distribution descibed above. Do the estimated values agree with the parameters of the distribution?\n",
    "\n",
    "\n",
    "(Hint: When computing the correlation $\\rho$ you will need to  compute the square root of the variances - this is done using the command `np.sqrt(number)`)\n",
    "\n",
    "<h2> Submission instructions: </h2>\n",
    "\n",
    "When you've finished filling in the spaces for the code and answers below, **save and export the notebook as a pdf** (this is an option under the `file` menu). Upload it to Gradescope under the assignment **Homework 08 - Computer Lab.** Do not submit any screenshots of your code.\n"
   ]
  },
  {
   "cell_type": "markdown",
   "metadata": {},
   "source": [
    "<h4>Problem 1</h4>"
   ]
  },
  {
   "cell_type": "code",
   "execution_count": 77,
   "metadata": {},
   "outputs": [],
   "source": [
    "#Put your code for solving problem 1 here.\n"
   ]
  },
  {
   "cell_type": "markdown",
   "metadata": {},
   "source": [
    "Put your answers to problem 1 here."
   ]
  },
  {
   "cell_type": "markdown",
   "metadata": {},
   "source": [
    "<h4>Problem 2</h4>"
   ]
  },
  {
   "cell_type": "code",
   "execution_count": 78,
   "metadata": {},
   "outputs": [],
   "source": [
    "#Put your code for solving problem 2 here."
   ]
  },
  {
   "cell_type": "markdown",
   "metadata": {},
   "source": [
    "Put your answer to problem 2 here."
   ]
  }
 ],
 "metadata": {
  "kernelspec": {
   "display_name": "Python 3",
   "language": "python",
   "name": "python3"
  },
  "language_info": {
   "codemirror_mode": {
    "name": "ipython",
    "version": 3
   },
   "file_extension": ".py",
   "mimetype": "text/x-python",
   "name": "python",
   "nbconvert_exporter": "python",
   "pygments_lexer": "ipython3",
   "version": "3.6.8"
  }
 },
 "nbformat": 4,
 "nbformat_minor": 5
}
