{
 "cells": [
  {
   "cell_type": "markdown",
   "metadata": {},
   "source": [
    "<h2> Homework 06 - Computer Lab - Checking your answers using simulations.</h2>\n",
    "\n",
    "<h3> Introduction </h3>\n",
    "\n",
    "In this computer lab, you will use simulations to check some of your answers in the pen-and-pencil part of the homework."
   ]
  },
  {
   "cell_type": "markdown",
   "metadata": {},
   "source": [
    "<h4> Drawing random numbers from a discrete distribution.</h4>\n",
    "\n",
    "In problem 2 of the homework, you considered a dicrete distribution for which the probability mass function was specified. In class, we  introduced a method for generating realizations of discrete random variables using the cumulative distribution function. Below is a code snipped that implements the six-sided dice:"
   ]
  },
  {
   "cell_type": "code",
   "execution_count": 1,
   "metadata": {},
   "outputs": [
    {
     "name": "stdout",
     "output_type": "stream",
     "text": [
      "The die is 5\n"
     ]
    }
   ],
   "source": [
    "# Import the necessary package\n",
    "from numpy import random\n",
    "\n",
    "#First generate a random number between 0 and 1\n",
    "r = random.rand()\n",
    "\n",
    "#Next we use the cumulative distribution function to figure out what number on the die this corresponds to: \n",
    "if r<=1/6:     #F(1) = 1/6\n",
    "    die = 1\n",
    "elif r<=2/6:   #F(2) = 2/6\n",
    "    die = 2\n",
    "elif r<=3/6:   #F(3) = ...\n",
    "    die = 3\n",
    "elif r<=4/6:\n",
    "    die = 4\n",
    "elif r<=5/6:\n",
    "    die = 5\n",
    "else:\n",
    "    die = 6\n",
    "\n",
    "print(\"The die is\",die)\n",
    "\n"
   ]
  },
  {
   "cell_type": "markdown",
   "metadata": {},
   "source": [
    "To check if if this works propperly, one can generating many dice rolls and see if the probability of getting a 6 is close to 1/6:\n"
   ]
  },
  {
   "cell_type": "code",
   "execution_count": 2,
   "metadata": {},
   "outputs": [
    {
     "name": "stdout",
     "output_type": "stream",
     "text": [
      "P[X=6] =  0.169\n"
     ]
    }
   ],
   "source": [
    "#How many samples to draw\n",
    "nSample = 10000\n",
    "#Counts the number of sixes\n",
    "n6 = 0\n",
    "\n",
    "for _ in range(nSample):\n",
    "    #Generates the die roll\n",
    "    r = random.rand()\n",
    "    if r<1/6:\n",
    "        die = 1\n",
    "    elif r<2/6:\n",
    "        die = 2\n",
    "    elif r<3/6:\n",
    "        die = 3\n",
    "    elif r<4/6:\n",
    "        die = 4\n",
    "    elif r<5/6:\n",
    "        die = 5\n",
    "    else:\n",
    "        die = 6\n",
    "        \n",
    "    #Checks if it is six:\n",
    "    if die == 6:\n",
    "        n6 += 1\n",
    "        \n",
    "print(\"P[X=6] = \",n6/nSample)\n"
   ]
  },
  {
   "cell_type": "markdown",
   "metadata": {},
   "source": [
    "We see that this is close to 1/6=0.16667. \n",
    "\n",
    "<h4> Computing expectation values using simulations</h4>\n",
    "\n",
    "To check the homework we also need to compute expectation values using simulations. Remember that one definition of the expectation value $E[X]$ of a random variable $X$ is the mean observed values after repeating a random experimet indefinitely. To illustrate how expectation values can be approximated using simulations, consider $X\\sim N(\\mu=5, \\sigma^2=1)$. To estimate $\\mu=E[X]$ and $Var(X)=E[X^2]-\\mu^2$ using a simulation, we compute the mean value of $X$ and $X^2$ after generating 10,000 realizations of X:"
   ]
  },
  {
   "cell_type": "code",
   "execution_count": 3,
   "metadata": {},
   "outputs": [
    {
     "name": "stdout",
     "output_type": "stream",
     "text": [
      "E[X]   =  5.010548480534925\n",
      "E[X^2] =  26.0952371358078\n",
      "Var[X] =  0.9896410600169574\n"
     ]
    }
   ],
   "source": [
    "from random import gauss\n",
    "\n",
    "nSample = 10000\n",
    "#Sum used to compute E[X]\n",
    "xSum  = 0\n",
    "#Sum used to compute E[X^2]\n",
    "x2Sum = 0\n",
    "for _ in range(nSample):\n",
    "    x = gauss(5,1)\n",
    "    xSum  += x\n",
    "    x2Sum += x**2\n",
    "    \n",
    "EX  = xSum / nSample\n",
    "EX2 = x2Sum / nSample\n",
    "Var = EX2 - EX**2\n",
    "print(\"E[X]   = \",EX)\n",
    "print(\"E[X^2] = \",EX2)\n",
    "print(\"Var[X] = \",Var)\n"
   ]
  },
  {
   "cell_type": "markdown",
   "metadata": {},
   "source": [
    "We see that the $X$ has the true mean and variance ($\\mu=5$, $\\sigma^2=1$).\n",
    "\n",
    "<h4>Drawing numbers from the uniform distribution</h4>\n",
    "\n",
    "For one of the problems, you need to draw numbers from the continuous uniform distribution $U(a,b)$. This can be done using the following code:"
   ]
  },
  {
   "cell_type": "code",
   "execution_count": 4,
   "metadata": {},
   "outputs": [
    {
     "data": {
      "text/plain": [
       "4.4736587175795846"
      ]
     },
     "execution_count": 4,
     "metadata": {},
     "output_type": "execute_result"
    }
   ],
   "source": [
    "from random import uniform\n",
    "\n",
    "a=2\n",
    "b=6\n",
    "uniform(a,b)"
   ]
  },
  {
   "cell_type": "markdown",
   "metadata": {},
   "source": [
    "<h2> Problems </h2>\n",
    "\n",
    "\n",
    "<h4>Problem 1</h4>\n",
    "\n",
    "Use a simulation to check your answer to question 2. Specifically, given the probability weight function\n",
    "\n",
    "$$\n",
    "p_X(a) =\\left\\{ \\begin{array}{cc} 1/5& a=-1 \\cr 2/5&a=0 \\cr 2/5&a=1\\end{array}\\right.\n",
    "$$\n",
    "for $X$, compute $E[X]$, $E[X^2]$, and $Var(X)$.\n",
    "\n",
    "<h4>Problem 2</h4>\n",
    "\n",
    "Use a simulation to check your answer to: \n",
    "- Question 4c of the theory homework (compute $E(V$).\n",
    "- Question 4d of the theory homework  (compute the probability of rejection).\n",
    "- Question 4e of the theory homework  (compute the standard deviation ofthe volume $V$).\n",
    "\n",
    "\n",
    "<h2> Submission instructions: </h2>\n",
    "\n",
    "When you've finished filling in the spaces for the code and answers below, **save and export the notebook as a pdf** (this is an option under the `file` menu). Upload it to Gradescope under the assignment **Homework 06 - Computer Lab.** Do not submit any screenshots of your code.\n"
   ]
  },
  {
   "cell_type": "markdown",
   "metadata": {},
   "source": [
    "<h4>Problem 1</h4>"
   ]
  },
  {
   "cell_type": "code",
   "execution_count": 77,
   "metadata": {},
   "outputs": [],
   "source": [
    "#Put your code for solving problem 1 here.\n"
   ]
  },
  {
   "cell_type": "markdown",
   "metadata": {},
   "source": [
    "Put your answers to problem 1 here."
   ]
  },
  {
   "cell_type": "markdown",
   "metadata": {},
   "source": [
    "<h4>Problem 2</h4>"
   ]
  },
  {
   "cell_type": "code",
   "execution_count": 78,
   "metadata": {},
   "outputs": [],
   "source": [
    "#Put your code for solving problem 2 here."
   ]
  },
  {
   "cell_type": "markdown",
   "metadata": {},
   "source": [
    "Put your answer to problem 2 here."
   ]
  }
 ],
 "metadata": {
  "kernelspec": {
   "display_name": "Python 3",
   "language": "python",
   "name": "python3"
  },
  "language_info": {
   "codemirror_mode": {
    "name": "ipython",
    "version": 3
   },
   "file_extension": ".py",
   "mimetype": "text/x-python",
   "name": "python",
   "nbconvert_exporter": "python",
   "pygments_lexer": "ipython3",
   "version": "3.6.8"
  }
 },
 "nbformat": 4,
 "nbformat_minor": 5
}
